{
  "nbformat": 4,
  "nbformat_minor": 0,
  "metadata": {
    "colab": {
      "provenance": [],
      "authorship_tag": "ABX9TyOz8eLEve6tj6qiMtT1QrJW",
      "include_colab_link": true
    },
    "kernelspec": {
      "name": "python3",
      "display_name": "Python 3"
    },
    "language_info": {
      "name": "python"
    }
  },
  "cells": [
    {
      "cell_type": "markdown",
      "metadata": {
        "id": "view-in-github",
        "colab_type": "text"
      },
      "source": [
        "<a href=\"https://colab.research.google.com/github/cbonnin88/people-analytics/blob/main/hrmanager_toolkit.ipynb\" target=\"_parent\"><img src=\"https://colab.research.google.com/assets/colab-badge.svg\" alt=\"Open In Colab\"/></a>"
      ]
    },
    {
      "cell_type": "code",
      "execution_count": 14,
      "metadata": {
        "id": "V-hv0wUF_NEX",
        "colab": {
          "base_uri": "https://localhost:8080/"
        },
        "outputId": "df682598-1461-4367-a93b-fbb42da63035"
      },
      "outputs": [
        {
          "output_type": "stream",
          "name": "stdout",
          "text": [
            "Requirement already satisfied: streamlit in /usr/local/lib/python3.12/dist-packages (1.50.0)\n",
            "Requirement already satisfied: pyngrok in /usr/local/lib/python3.12/dist-packages (7.4.0)\n",
            "Requirement already satisfied: altair!=5.4.0,!=5.4.1,<6,>=4.0 in /usr/local/lib/python3.12/dist-packages (from streamlit) (5.5.0)\n",
            "Requirement already satisfied: blinker<2,>=1.5.0 in /usr/local/lib/python3.12/dist-packages (from streamlit) (1.9.0)\n",
            "Requirement already satisfied: cachetools<7,>=4.0 in /usr/local/lib/python3.12/dist-packages (from streamlit) (5.5.2)\n",
            "Requirement already satisfied: click<9,>=7.0 in /usr/local/lib/python3.12/dist-packages (from streamlit) (8.2.1)\n",
            "Requirement already satisfied: numpy<3,>=1.23 in /usr/local/lib/python3.12/dist-packages (from streamlit) (2.0.2)\n",
            "Requirement already satisfied: packaging<26,>=20 in /usr/local/lib/python3.12/dist-packages (from streamlit) (25.0)\n",
            "Requirement already satisfied: pandas<3,>=1.4.0 in /usr/local/lib/python3.12/dist-packages (from streamlit) (2.2.2)\n",
            "Requirement already satisfied: pillow<12,>=7.1.0 in /usr/local/lib/python3.12/dist-packages (from streamlit) (11.3.0)\n",
            "Requirement already satisfied: protobuf<7,>=3.20 in /usr/local/lib/python3.12/dist-packages (from streamlit) (5.29.5)\n",
            "Requirement already satisfied: pyarrow>=7.0 in /usr/local/lib/python3.12/dist-packages (from streamlit) (18.1.0)\n",
            "Requirement already satisfied: requests<3,>=2.27 in /usr/local/lib/python3.12/dist-packages (from streamlit) (2.32.4)\n",
            "Requirement already satisfied: tenacity<10,>=8.1.0 in /usr/local/lib/python3.12/dist-packages (from streamlit) (8.5.0)\n",
            "Requirement already satisfied: toml<2,>=0.10.1 in /usr/local/lib/python3.12/dist-packages (from streamlit) (0.10.2)\n",
            "Requirement already satisfied: typing-extensions<5,>=4.4.0 in /usr/local/lib/python3.12/dist-packages (from streamlit) (4.15.0)\n",
            "Requirement already satisfied: watchdog<7,>=2.1.5 in /usr/local/lib/python3.12/dist-packages (from streamlit) (6.0.0)\n",
            "Requirement already satisfied: gitpython!=3.1.19,<4,>=3.0.7 in /usr/local/lib/python3.12/dist-packages (from streamlit) (3.1.45)\n",
            "Requirement already satisfied: pydeck<1,>=0.8.0b4 in /usr/local/lib/python3.12/dist-packages (from streamlit) (0.9.1)\n",
            "Requirement already satisfied: tornado!=6.5.0,<7,>=6.0.3 in /usr/local/lib/python3.12/dist-packages (from streamlit) (6.4.2)\n",
            "Requirement already satisfied: PyYAML>=5.1 in /usr/local/lib/python3.12/dist-packages (from pyngrok) (6.0.2)\n",
            "Requirement already satisfied: jinja2 in /usr/local/lib/python3.12/dist-packages (from altair!=5.4.0,!=5.4.1,<6,>=4.0->streamlit) (3.1.6)\n",
            "Requirement already satisfied: jsonschema>=3.0 in /usr/local/lib/python3.12/dist-packages (from altair!=5.4.0,!=5.4.1,<6,>=4.0->streamlit) (4.25.1)\n",
            "Requirement already satisfied: narwhals>=1.14.2 in /usr/local/lib/python3.12/dist-packages (from altair!=5.4.0,!=5.4.1,<6,>=4.0->streamlit) (2.5.0)\n",
            "Requirement already satisfied: gitdb<5,>=4.0.1 in /usr/local/lib/python3.12/dist-packages (from gitpython!=3.1.19,<4,>=3.0.7->streamlit) (4.0.12)\n",
            "Requirement already satisfied: python-dateutil>=2.8.2 in /usr/local/lib/python3.12/dist-packages (from pandas<3,>=1.4.0->streamlit) (2.9.0.post0)\n",
            "Requirement already satisfied: pytz>=2020.1 in /usr/local/lib/python3.12/dist-packages (from pandas<3,>=1.4.0->streamlit) (2025.2)\n",
            "Requirement already satisfied: tzdata>=2022.7 in /usr/local/lib/python3.12/dist-packages (from pandas<3,>=1.4.0->streamlit) (2025.2)\n",
            "Requirement already satisfied: charset_normalizer<4,>=2 in /usr/local/lib/python3.12/dist-packages (from requests<3,>=2.27->streamlit) (3.4.3)\n",
            "Requirement already satisfied: idna<4,>=2.5 in /usr/local/lib/python3.12/dist-packages (from requests<3,>=2.27->streamlit) (3.10)\n",
            "Requirement already satisfied: urllib3<3,>=1.21.1 in /usr/local/lib/python3.12/dist-packages (from requests<3,>=2.27->streamlit) (2.5.0)\n",
            "Requirement already satisfied: certifi>=2017.4.17 in /usr/local/lib/python3.12/dist-packages (from requests<3,>=2.27->streamlit) (2025.8.3)\n",
            "Requirement already satisfied: smmap<6,>=3.0.1 in /usr/local/lib/python3.12/dist-packages (from gitdb<5,>=4.0.1->gitpython!=3.1.19,<4,>=3.0.7->streamlit) (5.0.2)\n",
            "Requirement already satisfied: MarkupSafe>=2.0 in /usr/local/lib/python3.12/dist-packages (from jinja2->altair!=5.4.0,!=5.4.1,<6,>=4.0->streamlit) (3.0.2)\n",
            "Requirement already satisfied: attrs>=22.2.0 in /usr/local/lib/python3.12/dist-packages (from jsonschema>=3.0->altair!=5.4.0,!=5.4.1,<6,>=4.0->streamlit) (25.3.0)\n",
            "Requirement already satisfied: jsonschema-specifications>=2023.03.6 in /usr/local/lib/python3.12/dist-packages (from jsonschema>=3.0->altair!=5.4.0,!=5.4.1,<6,>=4.0->streamlit) (2025.9.1)\n",
            "Requirement already satisfied: referencing>=0.28.4 in /usr/local/lib/python3.12/dist-packages (from jsonschema>=3.0->altair!=5.4.0,!=5.4.1,<6,>=4.0->streamlit) (0.36.2)\n",
            "Requirement already satisfied: rpds-py>=0.7.1 in /usr/local/lib/python3.12/dist-packages (from jsonschema>=3.0->altair!=5.4.0,!=5.4.1,<6,>=4.0->streamlit) (0.27.1)\n",
            "Requirement already satisfied: six>=1.5 in /usr/local/lib/python3.12/dist-packages (from python-dateutil>=2.8.2->pandas<3,>=1.4.0->streamlit) (1.17.0)\n",
            "Requirement already satisfied: ngrok in /usr/local/lib/python3.12/dist-packages (1.5.1)\n"
          ]
        }
      ],
      "source": [
        "!pip install streamlit pyngrok\n",
        "!pip install ngrok"
      ]
    },
    {
      "cell_type": "code",
      "source": [
        "%%writefile app.py\n",
        "\n",
        "import streamlit as st\n",
        "import polars as pl\n",
        "import plotly.express as px\n",
        "import plotly.graph_objects as go\n",
        "import joblib\n",
        "\n",
        "\n",
        "# Load Models and Columns\n",
        "try:\n",
        "  attrition_model = joblib.load('attrition_model.joblib')\n",
        "  attrition_model_cols = joblib.load('attrition_model_columns.joblib')\n",
        "  salary_model = joblib.load('salary_model.joblib')\n",
        "\n",
        "  # Load the main dataset with Polars for visualization\n",
        "  df_people = pl.read_csv('df_people.csv')\n",
        "except FileNotFoundError as e:\n",
        "  st.error(f'A required file was not found: {e.filename}. Please ensure all .joblib and df_people.csv files are in the same directory')\n",
        "  st.stop()\n",
        "\n",
        "# Page Configuration\n",
        "st.set_page_config(layout='wide',page_title='ConnectSphere HR Toolkit')\n",
        "st.title('ConnectSphere HR Analytics Toolkit 🛠️')\n",
        "st.markdown('---')\n",
        "\n",
        "\n",
        "# 1. Salary Estimator\n",
        "st.header('💰 New Hire Salary Estimator')\n",
        "with st.expander('Click here to stimate a salary for a new role'):\n",
        "  col1,col2,col3,col4 = st.columns(4)\n",
        "  with col1:\n",
        "    loc = st.selectbox('Location', options=['Paris','London','Copenhagen','Berlin'],key='sal_loc')\n",
        "  with col2:\n",
        "    dept = st.selectbox('Department',options=['Engineering','Product','Sales','Data','Finance','Human Resources'],key='sal_dept')\n",
        "  with col3:\n",
        "    job_titles_by_dept = {\n",
        "        'Engineering':['Frontend Engineer','Backend Engineer','DevOps Engineer','QA Engineer','Engineering Manager','Cloud Engineer'],\n",
        "        'Product':['Product Manager','Product Analyst','UX/UI Designer','Product Engineer','Head of Product'],\n",
        "        'Sales':['Account Executive','Sales Development Representative','Sales Manager','Customer Success Manager','Sales Analyst','Head of Sales'],\n",
        "        'Human Resources':['Talent Acquisition Specialist','HR Business Partner','People Analyst','HR Machine Learning Engineer','HR Data Scientist','HR Manager'],\n",
        "        'Finance':['Credit Analyst','Accountant','Financial Analyst','Financial Planner','Auditor','Financial Lead'],\n",
        "        'Data':['Data Analyst','Data Scientist','Analytics Engineer','Data Engineer','Machine Learning Engineer','Cloud Data Engineer','Head of Data'],\n",
        "        'Leadership':['Chief Technicological Officer','Director of Product','Head of Global Sales','Chief People Officer','Chief Financial Officer','Chief Data Officer','Chief Executive Officer']\n",
        "    }\n",
        "    title = st.selectbox('Job Title',options=job_titles_by_dept.get(dept,[]))\n",
        "  with col4:\n",
        "    level = st.selectbox('Level',options=['T5','T4','T3','T2'],key='sal_level')\n",
        "\n",
        "  if st.button('Predict Salary'):\n",
        "    if not title:\n",
        "      st.warning('Please select a job title')\n",
        "    else:\n",
        "      input_data = pl.DataFrame({\n",
        "          'job_title':[title],'level':[level],\n",
        "          'location':[loc],'department':[dept]\n",
        "      })\n",
        "      prediction = salary_model.predict(input_data.to_pandas())[0] # Converting it to a pandas dataframe for model compatibility\n",
        "      st.success(f'Predicted Annual Salary (EUR): €{prediction:,.0f}')\n",
        "\n",
        "st.markdown('---')\n",
        "\n",
        "# 2 Salary Distribution Explorer\n",
        "st.header('📊 Salary Distribution Explorer')\n",
        "with st.expander('Click here to explore salary distributions'):\n",
        "  col_a,col_b = st.columns(2)\n",
        "  with col_a:\n",
        "    dist_dept = st.selectbox('Select Department',options=df_people['department'].unique().to_list(),key='dist_dept')\n",
        "  with col_b:\n",
        "    dist_level = st.selectbox('Select Level',options=df_people['level'].unique().to_list(),key='dist_level')\n",
        "\n",
        "  if st.button('Generate Salary Plot'):\n",
        "    filtered_df = df_people.filter(\n",
        "        (pl.col('department')== dist_dept) &\n",
        "        (pl.col('level')== dist_level) &\n",
        "        (pl.col('is_churn')==0)\n",
        "    )\n",
        "\n",
        "    if filtered_df.is_empty():\n",
        "      st.warning('No data avaiable for this combination. Please try another selection.')\n",
        "    else:\n",
        "      fig_salary = px.box(\n",
        "          filtered_df.to_pandas(),\n",
        "          x='job_title',\n",
        "          y='latest_salary_eur',\n",
        "          color='location',\n",
        "          title=f'Salary Distribution for {dist_level}{dist_dept}',\n",
        "          labels={'latest_salary_eur':'Annual Salary (EUR)','job_title':'Job Title'}\n",
        "      )\n",
        "      st.plotly_chart(fig_salary, use_container_width=True)\n",
        "st.markdown('---')\n",
        "\n",
        "\n",
        "# 3. Attrition Risk Identifier\n",
        "st.header('🚨 Attrition Risk Identifier')\n",
        "with st.expander('Cllick here to assess an employees attrition risk'):\n",
        "  col1a,col2b = st.columns([1,2])\n",
        "  with col1a:\n",
        "    tenure = st.number_input('Tenure (Days)',min_value=0,value=730,step=30)\n",
        "    perf_score = st.slider('Last Performance Score',1,5,3)\n",
        "    sat_score = st.slider('Last Satisfaction Score',1,5,3)\n",
        "  with col2b:\n",
        "    level_risk = st.selectbox('Employee Level',[\"T5\", \"T4\", \"T3\", \"T2\"],key='risk_level')\n",
        "    dept_risk = st.selectbox('Employee Department',[\"Engineering\", \"Product\", \"Sales\", \"Data\", \"Finance\", \"Human Resources\"],key='risk_dept')\n",
        "    loc_risk = st.selectbox('Employee Location',[\"Paris\", \"London\", \"Copenhagen\",'Berlin'], key='risk_loc')\n",
        "\n",
        "  if st.button('Calculate Attrition Risk'):\n",
        "    schema = {col: pl.Int64 for col in attrition_model_cols if col not in ['tenure_days','performance_score','satisfaction_score']}\n",
        "    schema.update({'tenure_days': pl.Int64, 'performance_score': pl.Int64, 'satisfaction_score': pl.Int64})\n",
        "    input_df = pl.DataFrame({col: [0] for col in attrition_model_cols}).with_columns([pl.col(pl.datatypes.Float64).cast(pl.Int64)])\n",
        "\n",
        "    input_df = input_df.with_columns([\n",
        "        pl.lit(tenure).alias('tenure_days'),\n",
        "        pl.lit(perf_score).alias('performance_score'),\n",
        "        pl.lit(sat_score).alias('satisfaction_score')\n",
        "    ])\n",
        "\n",
        "# Setting the one-hot encoded columns\n",
        "    if f'level_{level_risk}' in input_df.columns: input_df = input_df.with_columns(pl.lit(1).alias(f'level_{level_risk}'))\n",
        "    if f'department_{dept_risk}' in input_df.columns: input_df = input_df.with_columns(pl.lit(1).alias(f'department_{dept_risk}'))\n",
        "    if f'location_{loc_risk}' in input_df.columns: input_df = input_df.with_columns(pl.lit(1).alias(f'location_{loc_risk}'))\n",
        "\n",
        "# Predict probability\n",
        "    risk_proba = attrition_model.predict_proba(input_df.to_pandas())[0][1]\n",
        "\n",
        "    if risk_proba > 0.6:\n",
        "      st.error(f'High Risk of Attrition: {risk_proba:.1%} probability')\n",
        "    elif risk_proba > 0.3:\n",
        "      st.warning(f'Medium Risk of Attrition: {risk_proba:.1%} probability')\n",
        "    else:\n",
        "      st.success(f'Low Risk of Attrition: {risk_proba:.1%} probability')"
      ],
      "metadata": {
        "colab": {
          "base_uri": "https://localhost:8080/"
        },
        "id": "ESwY0XX8DjPY",
        "outputId": "5100d212-8463-4ab9-8697-c4fe71c6929b"
      },
      "execution_count": 82,
      "outputs": [
        {
          "output_type": "stream",
          "name": "stdout",
          "text": [
            "Overwriting app.py\n"
          ]
        }
      ]
    },
    {
      "cell_type": "code",
      "source": [
        "from pyngrok import ngrok\n",
        "from google.colab import userdata\n",
        "import time"
      ],
      "metadata": {
        "id": "4ytUho_yQYqp"
      },
      "execution_count": 83,
      "outputs": []
    },
    {
      "cell_type": "code",
      "source": [
        "try:\n",
        "  ngrok_token = userdata.get('NGROK_AUTH_TOKEN')\n",
        "  ngrok.set_auth_token(ngrok_token)\n",
        "except Exception as e:\n",
        "  print(f'Could not set ngrok token. Make sure its saved in Colab Secrets. Error: {e}')"
      ],
      "metadata": {
        "id": "bNeDw3G-QttC"
      },
      "execution_count": 84,
      "outputs": []
    },
    {
      "cell_type": "code",
      "source": [
        "!streamlit run app.py &>/dev/null&"
      ],
      "metadata": {
        "id": "jiEOc7mcRK7t"
      },
      "execution_count": 85,
      "outputs": []
    },
    {
      "cell_type": "code",
      "source": [
        "time.sleep(5)"
      ],
      "metadata": {
        "id": "HwHT2Ii_RY3M"
      },
      "execution_count": 86,
      "outputs": []
    },
    {
      "cell_type": "code",
      "source": [
        "try:\n",
        "    public_url = ngrok.connect(8501)\n",
        "    print(f\"Click the URL to open your Streamlit app: {public_url}\")\n",
        "except Exception as e:\n",
        "    print(f\"Could not connect to ngrok. Error: {e}\")\n",
        "    print(\"Please check your ngrok token and make sure no other tunnels are running on your account.\")"
      ],
      "metadata": {
        "colab": {
          "base_uri": "https://localhost:8080/"
        },
        "id": "pjGWSQ_CRdBJ",
        "outputId": "1a8c78fe-b8a1-4861-e3a6-8bfc02ffb2e0"
      },
      "execution_count": 87,
      "outputs": [
        {
          "output_type": "stream",
          "name": "stdout",
          "text": [
            "Click the URL to open your Streamlit app: NgrokTunnel: \"https://3574119185b8.ngrok-free.app\" -> \"http://localhost:8501\"\n"
          ]
        }
      ]
    },
    {
      "cell_type": "code",
      "source": [
        "!pgrep streamlit"
      ],
      "metadata": {
        "colab": {
          "base_uri": "https://localhost:8080/"
        },
        "id": "E2gPPuB_RibQ",
        "outputId": "064512b2-5022-4c10-f3bb-33ecb1f8b147"
      },
      "execution_count": 79,
      "outputs": [
        {
          "output_type": "stream",
          "name": "stdout",
          "text": [
            "18292\n"
          ]
        }
      ]
    },
    {
      "cell_type": "code",
      "source": [
        "!kill 18292"
      ],
      "metadata": {
        "id": "QPZgM1qsRyUo"
      },
      "execution_count": 80,
      "outputs": []
    },
    {
      "cell_type": "code",
      "source": [
        "ngrok.kill()"
      ],
      "metadata": {
        "id": "43Tjao0uSOxx"
      },
      "execution_count": 81,
      "outputs": []
    }
  ]
}