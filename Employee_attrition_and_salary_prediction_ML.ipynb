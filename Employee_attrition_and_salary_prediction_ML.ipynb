{
  "nbformat": 4,
  "nbformat_minor": 0,
  "metadata": {
    "colab": {
      "provenance": [],
      "authorship_tag": "ABX9TyNwHtoNWf9nZC4Z+94aJHMk",
      "include_colab_link": true
    },
    "kernelspec": {
      "name": "python3",
      "display_name": "Python 3"
    },
    "language_info": {
      "name": "python"
    }
  },
  "cells": [
    {
      "cell_type": "markdown",
      "metadata": {
        "id": "view-in-github",
        "colab_type": "text"
      },
      "source": [
        "<a href=\"https://colab.research.google.com/github/cbonnin88/people-analytics/blob/main/Employee_attrition_and_salary_prediction_ML.ipynb\" target=\"_parent\"><img src=\"https://colab.research.google.com/assets/colab-badge.svg\" alt=\"Open In Colab\"/></a>"
      ]
    },
    {
      "cell_type": "code",
      "execution_count": 27,
      "metadata": {
        "id": "XUyzRE0PC7zb"
      },
      "outputs": [],
      "source": [
        "import pandas as pd\n",
        "from sklearn.model_selection import train_test_split\n",
        "from sklearn.ensemble import RandomForestClassifier\n",
        "from sklearn.metrics import classification_report,  confusion_matrix\n",
        "import plotly.express as px\n",
        "import polars as pl\n",
        "from google.colab import auth\n",
        "from google.cloud import bigquery\n",
        "import datetime\n",
        "from sklearn.compose import ColumnTransformer\n",
        "from sklearn.pipeline import Pipeline\n",
        "from sklearn.preprocessing import OneHotEncoder\n",
        "from sklearn.ensemble import GradientBoostingRegressor\n",
        "from sklearn.metrics import mean_squared_error,r2_score"
      ]
    },
    {
      "cell_type": "code",
      "source": [
        "auth.authenticate_user()\n",
        "project_id = 'people-analytics-connectsphere'\n",
        "client = bigquery.Client(project=project_id)\n",
        "print('Authentication Successful')"
      ],
      "metadata": {
        "colab": {
          "base_uri": "https://localhost:8080/"
        },
        "id": "xKYRfewVGEtO",
        "outputId": "3b75d28f-8138-48ae-f357-dacb5963f55e"
      },
      "execution_count": 2,
      "outputs": [
        {
          "output_type": "stream",
          "name": "stdout",
          "text": [
            "Authentication Successful\n"
          ]
        }
      ]
    },
    {
      "cell_type": "code",
      "source": [
        "master_query = f\"\"\"\n",
        "WITH LatestSalaries AS (\n",
        "  SELECT\n",
        "    employee_id,\n",
        "    salary,\n",
        "    currency,\n",
        "    salary_in_eur,\n",
        "    ROW_NUMBER() OVER(PARTITION BY employee_id ORDER BY effective_date DESC) AS rn\n",
        "  FROM `people-analytics-connectsphere.people_data.salaries`\n",
        "\n",
        ")\n",
        "SELECT\n",
        "  emp.employee_id,\n",
        "  emp.first_name,\n",
        "  emp.last_name,\n",
        "  emp.hire_date,\n",
        "  emp.termination_date,\n",
        "  emp.level,\n",
        "  emp.department,\n",
        "  emp.location,\n",
        "  emp.country,\n",
        "  r.job_title,\n",
        "  p.performance_score,\n",
        "  p.satisfaction_score,\n",
        "  ls.salary AS latest_salary_local,\n",
        "  ls.currency,\n",
        "  ls.salary_in_eur AS latest_salary_eur\n",
        "FROM\n",
        "  `people-analytics-connectsphere.people_data.employees` AS emp\n",
        "LEFT JOIN `people-analytics-connectsphere.people_data.job_roles` AS r\n",
        "  ON emp.role_id = r.role_id\n",
        "LEFT JOIN  `people-analytics-connectsphere.people_data.performance` AS p\n",
        "  ON emp.employee_id = p.employee_id\n",
        "LEFT JOIN LatestSalaries ls\n",
        "  ON emp.employee_id = ls.employee_id\n",
        "  AND ls.rn = 1\n",
        "\"\"\""
      ],
      "metadata": {
        "id": "Gac7Zkd7GRmn"
      },
      "execution_count": 3,
      "outputs": []
    },
    {
      "cell_type": "code",
      "source": [
        "df_people = client.query(master_query).to_dataframe()\n",
        "df_people = pl.from_pandas(df_people)"
      ],
      "metadata": {
        "id": "TyMj3DWTGV6R"
      },
      "execution_count": 4,
      "outputs": []
    },
    {
      "cell_type": "code",
      "source": [
        "df_people = df_people.with_columns([\n",
        "    pl.col('hire_date'), # Assuming hire_date is already a date type\n",
        "    pl.col('termination_date').cast(pl.Datetime, strict=False) # strict=False handles the Nulls\n",
        "])"
      ],
      "metadata": {
        "id": "ZAQB8YeYGZSU"
      },
      "execution_count": 5,
      "outputs": []
    },
    {
      "cell_type": "code",
      "source": [
        "df_people = df_people.with_columns(\n",
        "    pl.when(pl.col('termination_date').is_not_null()).then(1).otherwise(0).alias('is_churn'),\n",
        "    (pl.lit(datetime.date.today())- pl.col('hire_date')).dt.total_days().alias('tenure_days')\n",
        ")"
      ],
      "metadata": {
        "id": "XLbzqJV1GbsQ"
      },
      "execution_count": 6,
      "outputs": []
    },
    {
      "cell_type": "code",
      "source": [
        "df_people.head()"
      ],
      "metadata": {
        "colab": {
          "base_uri": "https://localhost:8080/",
          "height": 379
        },
        "id": "CbTi89x4Gfr2",
        "outputId": "eac9e7e4-c16c-4923-ab7e-a7394a33bba6"
      },
      "execution_count": 7,
      "outputs": [
        {
          "output_type": "execute_result",
          "data": {
            "text/plain": [
              "shape: (5, 17)\n",
              "┌────────────┬───────────┬───────────┬───────────┬───┬──────────┬───────────┬──────────┬───────────┐\n",
              "│ employee_i ┆ first_nam ┆ last_name ┆ hire_date ┆ … ┆ currency ┆ latest_sa ┆ is_churn ┆ tenure_da │\n",
              "│ d          ┆ e         ┆ ---       ┆ ---       ┆   ┆ ---      ┆ lary_eur  ┆ ---      ┆ ys        │\n",
              "│ ---        ┆ ---       ┆ str       ┆ date      ┆   ┆ str      ┆ ---       ┆ i32      ┆ ---       │\n",
              "│ i64        ┆ str       ┆           ┆           ┆   ┆          ┆ i64       ┆          ┆ i64       │\n",
              "╞════════════╪═══════════╪═══════════╪═══════════╪═══╪══════════╪═══════════╪══════════╪═══════════╡\n",
              "│ 1          ┆ John      ┆ Shepard   ┆ 2019-01-1 ┆ … ┆ DKK      ┆ 183188    ┆ 0        ┆ 2447      │\n",
              "│            ┆           ┆           ┆ 1         ┆   ┆          ┆           ┆          ┆           │\n",
              "│ 14         ┆ Victor    ┆ Morris    ┆ 2021-04-0 ┆ … ┆ DKK      ┆ 131784    ┆ 0        ┆ 1629      │\n",
              "│            ┆           ┆           ┆ 8         ┆   ┆          ┆           ┆          ┆           │\n",
              "│ 17         ┆ Elizabeth ┆ White     ┆ 2024-05-1 ┆ … ┆ DKK      ┆ 120350    ┆ 0        ┆ 500       │\n",
              "│            ┆           ┆           ┆ 1         ┆   ┆          ┆           ┆          ┆           │\n",
              "│ 22         ┆ Shannon   ┆ Jones     ┆ 2022-06-1 ┆ … ┆ DKK      ┆ 125238    ┆ 0        ┆ 1193      │\n",
              "│            ┆           ┆           ┆ 8         ┆   ┆          ┆           ┆          ┆           │\n",
              "│ 24         ┆ Steven    ┆ White     ┆ 2022-02-1 ┆ … ┆ DKK      ┆ 102886    ┆ 0        ┆ 1319      │\n",
              "│            ┆           ┆           ┆ 2         ┆   ┆          ┆           ┆          ┆           │\n",
              "└────────────┴───────────┴───────────┴───────────┴───┴──────────┴───────────┴──────────┴───────────┘"
            ],
            "text/html": [
              "<div><style>\n",
              ".dataframe > thead > tr,\n",
              ".dataframe > tbody > tr {\n",
              "  text-align: right;\n",
              "  white-space: pre-wrap;\n",
              "}\n",
              "</style>\n",
              "<small>shape: (5, 17)</small><table border=\"1\" class=\"dataframe\"><thead><tr><th>employee_id</th><th>first_name</th><th>last_name</th><th>hire_date</th><th>termination_date</th><th>level</th><th>department</th><th>location</th><th>country</th><th>job_title</th><th>performance_score</th><th>satisfaction_score</th><th>latest_salary_local</th><th>currency</th><th>latest_salary_eur</th><th>is_churn</th><th>tenure_days</th></tr><tr><td>i64</td><td>str</td><td>str</td><td>date</td><td>datetime[μs]</td><td>str</td><td>str</td><td>str</td><td>str</td><td>str</td><td>i64</td><td>i64</td><td>i64</td><td>str</td><td>i64</td><td>i32</td><td>i64</td></tr></thead><tbody><tr><td>1</td><td>&quot;John&quot;</td><td>&quot;Shepard&quot;</td><td>2019-01-11</td><td>null</td><td>&quot;T1&quot;</td><td>&quot;Leadership&quot;</td><td>&quot;Copenhagen&quot;</td><td>&quot;Denmark&quot;</td><td>&quot;Chief Executive Officer&quot;</td><td>5</td><td>null</td><td>1364750</td><td>&quot;DKK&quot;</td><td>183188</td><td>0</td><td>2447</td></tr><tr><td>14</td><td>&quot;Victor&quot;</td><td>&quot;Morris&quot;</td><td>2021-04-08</td><td>null</td><td>&quot;T2&quot;</td><td>&quot;Finance&quot;</td><td>&quot;Copenhagen&quot;</td><td>&quot;Denmark&quot;</td><td>&quot;Financial Lead&quot;</td><td>4</td><td>2</td><td>962731</td><td>&quot;DKK&quot;</td><td>131784</td><td>0</td><td>1629</td></tr><tr><td>17</td><td>&quot;Elizabeth&quot;</td><td>&quot;White&quot;</td><td>2024-05-11</td><td>null</td><td>&quot;T2&quot;</td><td>&quot;Sales&quot;</td><td>&quot;Copenhagen&quot;</td><td>&quot;Denmark&quot;</td><td>&quot;Head of Sales&quot;</td><td>3</td><td>5</td><td>896607</td><td>&quot;DKK&quot;</td><td>120350</td><td>0</td><td>500</td></tr><tr><td>22</td><td>&quot;Shannon&quot;</td><td>&quot;Jones&quot;</td><td>2022-06-18</td><td>null</td><td>&quot;T2&quot;</td><td>&quot;Data&quot;</td><td>&quot;Copenhagen&quot;</td><td>&quot;Denmark&quot;</td><td>&quot;Head of Data&quot;</td><td>2</td><td>4</td><td>880373</td><td>&quot;DKK&quot;</td><td>125238</td><td>0</td><td>1193</td></tr><tr><td>24</td><td>&quot;Steven&quot;</td><td>&quot;White&quot;</td><td>2022-02-12</td><td>null</td><td>&quot;T2&quot;</td><td>&quot;Human Resources&quot;</td><td>&quot;Copenhagen&quot;</td><td>&quot;Denmark&quot;</td><td>&quot;HR Manager&quot;</td><td>3</td><td>3</td><td>766500</td><td>&quot;DKK&quot;</td><td>102886</td><td>0</td><td>1319</td></tr></tbody></table></div>"
            ]
          },
          "metadata": {},
          "execution_count": 7
        }
      ]
    },
    {
      "cell_type": "markdown",
      "source": [
        "# **Selecting Features and Targets**"
      ],
      "metadata": {
        "id": "ioJPwdhbGmKY"
      }
    },
    {
      "cell_type": "code",
      "source": [
        "# For this model, we'll use tenure, performance, satisfaction, and role characteristics.\n",
        "features = [\n",
        "    'tenure_days',\n",
        "    'performance_score',\n",
        "    'satisfaction_score',\n",
        "    'level',\n",
        "    'department',\n",
        "    'location'\n",
        "]\n",
        "\n",
        "target = 'is_churn'"
      ],
      "metadata": {
        "id": "yzPI0ZjmGo8D"
      },
      "execution_count": 8,
      "outputs": []
    },
    {
      "cell_type": "code",
      "source": [
        "# Converting to pandas for scikit-learn compatibility\n",
        "df_ml = df_people.to_pandas()"
      ],
      "metadata": {
        "id": "55evfL5UG8t-"
      },
      "execution_count": 9,
      "outputs": []
    },
    {
      "cell_type": "code",
      "source": [
        "# One-Hot Encode Categorical Features\n",
        "# ML models need number, so I converted the text columns like 'department' into numerica format\n",
        "\n",
        "X = pd.get_dummies(df_ml[features],drop_first=True)\n",
        "y = df_ml[target]"
      ],
      "metadata": {
        "id": "ZDbtSHMmHEnh"
      },
      "execution_count": 10,
      "outputs": []
    },
    {
      "cell_type": "code",
      "source": [
        "# Split Data into Training and Testing Sets\n",
        "# I am training the model on one part of the data and test it on another to see how it performs\n",
        "\n",
        "X_train,X_test,y_train,y_test = train_test_split(\n",
        "    X,y,\n",
        "    test_size=0.25, # I am using 25% of the data\n",
        "    random_state=42,\n",
        "    stratify=y # Ensures the proportion of churners is the same in train and test sets\n",
        ")"
      ],
      "metadata": {
        "id": "I5hgq4PgHhWj"
      },
      "execution_count": 11,
      "outputs": []
    },
    {
      "cell_type": "code",
      "source": [
        "print('Data for Attrition Model is ready.')\n",
        "print(f'Training data shape: {X_train.shape}')\n",
        "print(f'Testing data shape: {X_test.shape}')"
      ],
      "metadata": {
        "colab": {
          "base_uri": "https://localhost:8080/"
        },
        "id": "71UPyMtNIBjO",
        "outputId": "d1532e1c-7f83-45e5-e5ac-99bb0dc37e31"
      },
      "execution_count": 12,
      "outputs": [
        {
          "output_type": "stream",
          "name": "stdout",
          "text": [
            "Data for Attrition Model is ready.\n",
            "Training data shape: (3375, 16)\n",
            "Testing data shape: (1125, 16)\n"
          ]
        }
      ]
    },
    {
      "cell_type": "markdown",
      "source": [
        "# **Train and Evaluate the Model**"
      ],
      "metadata": {
        "id": "kgtpiG1lIQLc"
      }
    },
    {
      "cell_type": "code",
      "source": [
        "# Initialize and train the Model\n",
        "# I used class_weight='balanced' to help the model handle the fact that far more employees stay than leave\n",
        "\n",
        "rf_model = RandomForestClassifier(random_state=42,class_weight='balanced')\n",
        "rf_model.fit(X_train,y_train)\n",
        "print('Attrition model trained successfully')"
      ],
      "metadata": {
        "colab": {
          "base_uri": "https://localhost:8080/"
        },
        "id": "urtVHRu5ITL3",
        "outputId": "ac69937c-ab69-43fb-b628-bbf6215627f5"
      },
      "execution_count": 13,
      "outputs": [
        {
          "output_type": "stream",
          "name": "stdout",
          "text": [
            "Attrition model trained successfully\n"
          ]
        }
      ]
    },
    {
      "cell_type": "code",
      "source": [
        "# Making Predictions and Evaluate\n",
        "y_pred = rf_model.predict(X_test)"
      ],
      "metadata": {
        "id": "PyfguMoVI6SV"
      },
      "execution_count": 14,
      "outputs": []
    },
    {
      "cell_type": "code",
      "source": [
        "# Printing A report showing key metrics like precision and recall\n",
        "\n",
        "print('\\nClassificatioin Report:')\n",
        "print(classification_report(y_test,y_pred,target_names=['Stayed','Churned']))"
      ],
      "metadata": {
        "colab": {
          "base_uri": "https://localhost:8080/"
        },
        "id": "wbSXpD5nJDVf",
        "outputId": "e8ee1aa9-1f08-4b8c-eaa1-6fa0424af120"
      },
      "execution_count": 15,
      "outputs": [
        {
          "output_type": "stream",
          "name": "stdout",
          "text": [
            "\n",
            "Classificatioin Report:\n",
            "              precision    recall  f1-score   support\n",
            "\n",
            "      Stayed       0.89      0.93      0.91       934\n",
            "     Churned       0.54      0.42      0.47       191\n",
            "\n",
            "    accuracy                           0.84      1125\n",
            "   macro avg       0.72      0.67      0.69      1125\n",
            "weighted avg       0.83      0.84      0.83      1125\n",
            "\n"
          ]
        }
      ]
    },
    {
      "cell_type": "code",
      "source": [
        "# Computing the confusion matrix\n",
        "cm = confusion_matrix(y_test,y_pred)"
      ],
      "metadata": {
        "id": "36qc1BtDJleP"
      },
      "execution_count": 16,
      "outputs": []
    },
    {
      "cell_type": "code",
      "source": [
        "fig_matrix = px.imshow(\n",
        "    cm,\n",
        "    labels=dict(x='Predicted Label',y='True Label',color='Count'),\n",
        "    x=['Stayed','Churned'],\n",
        "    y=['Stayed','Churned'],\n",
        "    text_auto=True,\n",
        "    color_continuous_scale='Viridis',\n",
        "    title='Confusion Matrix'\n",
        "\n",
        ")\n",
        "\n",
        "fig_matrix.show()"
      ],
      "metadata": {
        "colab": {
          "base_uri": "https://localhost:8080/",
          "height": 542
        },
        "id": "DDYvfHtMJ_7T",
        "outputId": "8f9ab6d0-2bbe-426d-8b8c-1629b949b423"
      },
      "execution_count": 17,
      "outputs": [
        {
          "output_type": "display_data",
          "data": {
            "text/html": [
              "<html>\n",
              "<head><meta charset=\"utf-8\" /></head>\n",
              "<body>\n",
              "    <div>            <script src=\"https://cdnjs.cloudflare.com/ajax/libs/mathjax/2.7.5/MathJax.js?config=TeX-AMS-MML_SVG\"></script><script type=\"text/javascript\">if (window.MathJax && window.MathJax.Hub && window.MathJax.Hub.Config) {window.MathJax.Hub.Config({SVG: {font: \"STIX-Web\"}});}</script>                <script type=\"text/javascript\">window.PlotlyConfig = {MathJaxConfig: 'local'};</script>\n",
              "        <script charset=\"utf-8\" src=\"https://cdn.plot.ly/plotly-2.35.2.min.js\"></script>                <div id=\"4c096ca5-d68a-413a-b463-4caaff4aa74d\" class=\"plotly-graph-div\" style=\"height:525px; width:100%;\"></div>            <script type=\"text/javascript\">                                    window.PLOTLYENV=window.PLOTLYENV || {};                                    if (document.getElementById(\"4c096ca5-d68a-413a-b463-4caaff4aa74d\")) {                    Plotly.newPlot(                        \"4c096ca5-d68a-413a-b463-4caaff4aa74d\",                        [{\"coloraxis\":\"coloraxis\",\"name\":\"0\",\"texttemplate\":\"%{z}\",\"x\":[\"Stayed\",\"Churned\"],\"y\":[\"Stayed\",\"Churned\"],\"z\":[[867,67],[111,80]],\"type\":\"heatmap\",\"xaxis\":\"x\",\"yaxis\":\"y\",\"hovertemplate\":\"Predicted Label: %{x}\\u003cbr\\u003eTrue Label: %{y}\\u003cbr\\u003eCount: %{z}\\u003cextra\\u003e\\u003c\\u002fextra\\u003e\"}],                        {\"template\":{\"data\":{\"histogram2dcontour\":[{\"type\":\"histogram2dcontour\",\"colorbar\":{\"outlinewidth\":0,\"ticks\":\"\"},\"colorscale\":[[0.0,\"#0d0887\"],[0.1111111111111111,\"#46039f\"],[0.2222222222222222,\"#7201a8\"],[0.3333333333333333,\"#9c179e\"],[0.4444444444444444,\"#bd3786\"],[0.5555555555555556,\"#d8576b\"],[0.6666666666666666,\"#ed7953\"],[0.7777777777777778,\"#fb9f3a\"],[0.8888888888888888,\"#fdca26\"],[1.0,\"#f0f921\"]]}],\"choropleth\":[{\"type\":\"choropleth\",\"colorbar\":{\"outlinewidth\":0,\"ticks\":\"\"}}],\"histogram2d\":[{\"type\":\"histogram2d\",\"colorbar\":{\"outlinewidth\":0,\"ticks\":\"\"},\"colorscale\":[[0.0,\"#0d0887\"],[0.1111111111111111,\"#46039f\"],[0.2222222222222222,\"#7201a8\"],[0.3333333333333333,\"#9c179e\"],[0.4444444444444444,\"#bd3786\"],[0.5555555555555556,\"#d8576b\"],[0.6666666666666666,\"#ed7953\"],[0.7777777777777778,\"#fb9f3a\"],[0.8888888888888888,\"#fdca26\"],[1.0,\"#f0f921\"]]}],\"heatmap\":[{\"type\":\"heatmap\",\"colorbar\":{\"outlinewidth\":0,\"ticks\":\"\"},\"colorscale\":[[0.0,\"#0d0887\"],[0.1111111111111111,\"#46039f\"],[0.2222222222222222,\"#7201a8\"],[0.3333333333333333,\"#9c179e\"],[0.4444444444444444,\"#bd3786\"],[0.5555555555555556,\"#d8576b\"],[0.6666666666666666,\"#ed7953\"],[0.7777777777777778,\"#fb9f3a\"],[0.8888888888888888,\"#fdca26\"],[1.0,\"#f0f921\"]]}],\"heatmapgl\":[{\"type\":\"heatmapgl\",\"colorbar\":{\"outlinewidth\":0,\"ticks\":\"\"},\"colorscale\":[[0.0,\"#0d0887\"],[0.1111111111111111,\"#46039f\"],[0.2222222222222222,\"#7201a8\"],[0.3333333333333333,\"#9c179e\"],[0.4444444444444444,\"#bd3786\"],[0.5555555555555556,\"#d8576b\"],[0.6666666666666666,\"#ed7953\"],[0.7777777777777778,\"#fb9f3a\"],[0.8888888888888888,\"#fdca26\"],[1.0,\"#f0f921\"]]}],\"contourcarpet\":[{\"type\":\"contourcarpet\",\"colorbar\":{\"outlinewidth\":0,\"ticks\":\"\"}}],\"contour\":[{\"type\":\"contour\",\"colorbar\":{\"outlinewidth\":0,\"ticks\":\"\"},\"colorscale\":[[0.0,\"#0d0887\"],[0.1111111111111111,\"#46039f\"],[0.2222222222222222,\"#7201a8\"],[0.3333333333333333,\"#9c179e\"],[0.4444444444444444,\"#bd3786\"],[0.5555555555555556,\"#d8576b\"],[0.6666666666666666,\"#ed7953\"],[0.7777777777777778,\"#fb9f3a\"],[0.8888888888888888,\"#fdca26\"],[1.0,\"#f0f921\"]]}],\"surface\":[{\"type\":\"surface\",\"colorbar\":{\"outlinewidth\":0,\"ticks\":\"\"},\"colorscale\":[[0.0,\"#0d0887\"],[0.1111111111111111,\"#46039f\"],[0.2222222222222222,\"#7201a8\"],[0.3333333333333333,\"#9c179e\"],[0.4444444444444444,\"#bd3786\"],[0.5555555555555556,\"#d8576b\"],[0.6666666666666666,\"#ed7953\"],[0.7777777777777778,\"#fb9f3a\"],[0.8888888888888888,\"#fdca26\"],[1.0,\"#f0f921\"]]}],\"mesh3d\":[{\"type\":\"mesh3d\",\"colorbar\":{\"outlinewidth\":0,\"ticks\":\"\"}}],\"scatter\":[{\"fillpattern\":{\"fillmode\":\"overlay\",\"size\":10,\"solidity\":0.2},\"type\":\"scatter\"}],\"parcoords\":[{\"type\":\"parcoords\",\"line\":{\"colorbar\":{\"outlinewidth\":0,\"ticks\":\"\"}}}],\"scatterpolargl\":[{\"type\":\"scatterpolargl\",\"marker\":{\"colorbar\":{\"outlinewidth\":0,\"ticks\":\"\"}}}],\"bar\":[{\"error_x\":{\"color\":\"#2a3f5f\"},\"error_y\":{\"color\":\"#2a3f5f\"},\"marker\":{\"line\":{\"color\":\"#E5ECF6\",\"width\":0.5},\"pattern\":{\"fillmode\":\"overlay\",\"size\":10,\"solidity\":0.2}},\"type\":\"bar\"}],\"scattergeo\":[{\"type\":\"scattergeo\",\"marker\":{\"colorbar\":{\"outlinewidth\":0,\"ticks\":\"\"}}}],\"scatterpolar\":[{\"type\":\"scatterpolar\",\"marker\":{\"colorbar\":{\"outlinewidth\":0,\"ticks\":\"\"}}}],\"histogram\":[{\"marker\":{\"pattern\":{\"fillmode\":\"overlay\",\"size\":10,\"solidity\":0.2}},\"type\":\"histogram\"}],\"scattergl\":[{\"type\":\"scattergl\",\"marker\":{\"colorbar\":{\"outlinewidth\":0,\"ticks\":\"\"}}}],\"scatter3d\":[{\"type\":\"scatter3d\",\"line\":{\"colorbar\":{\"outlinewidth\":0,\"ticks\":\"\"}},\"marker\":{\"colorbar\":{\"outlinewidth\":0,\"ticks\":\"\"}}}],\"scattermapbox\":[{\"type\":\"scattermapbox\",\"marker\":{\"colorbar\":{\"outlinewidth\":0,\"ticks\":\"\"}}}],\"scatterternary\":[{\"type\":\"scatterternary\",\"marker\":{\"colorbar\":{\"outlinewidth\":0,\"ticks\":\"\"}}}],\"scattercarpet\":[{\"type\":\"scattercarpet\",\"marker\":{\"colorbar\":{\"outlinewidth\":0,\"ticks\":\"\"}}}],\"carpet\":[{\"aaxis\":{\"endlinecolor\":\"#2a3f5f\",\"gridcolor\":\"white\",\"linecolor\":\"white\",\"minorgridcolor\":\"white\",\"startlinecolor\":\"#2a3f5f\"},\"baxis\":{\"endlinecolor\":\"#2a3f5f\",\"gridcolor\":\"white\",\"linecolor\":\"white\",\"minorgridcolor\":\"white\",\"startlinecolor\":\"#2a3f5f\"},\"type\":\"carpet\"}],\"table\":[{\"cells\":{\"fill\":{\"color\":\"#EBF0F8\"},\"line\":{\"color\":\"white\"}},\"header\":{\"fill\":{\"color\":\"#C8D4E3\"},\"line\":{\"color\":\"white\"}},\"type\":\"table\"}],\"barpolar\":[{\"marker\":{\"line\":{\"color\":\"#E5ECF6\",\"width\":0.5},\"pattern\":{\"fillmode\":\"overlay\",\"size\":10,\"solidity\":0.2}},\"type\":\"barpolar\"}],\"pie\":[{\"automargin\":true,\"type\":\"pie\"}]},\"layout\":{\"autotypenumbers\":\"strict\",\"colorway\":[\"#636efa\",\"#EF553B\",\"#00cc96\",\"#ab63fa\",\"#FFA15A\",\"#19d3f3\",\"#FF6692\",\"#B6E880\",\"#FF97FF\",\"#FECB52\"],\"font\":{\"color\":\"#2a3f5f\"},\"hovermode\":\"closest\",\"hoverlabel\":{\"align\":\"left\"},\"paper_bgcolor\":\"white\",\"plot_bgcolor\":\"#E5ECF6\",\"polar\":{\"bgcolor\":\"#E5ECF6\",\"angularaxis\":{\"gridcolor\":\"white\",\"linecolor\":\"white\",\"ticks\":\"\"},\"radialaxis\":{\"gridcolor\":\"white\",\"linecolor\":\"white\",\"ticks\":\"\"}},\"ternary\":{\"bgcolor\":\"#E5ECF6\",\"aaxis\":{\"gridcolor\":\"white\",\"linecolor\":\"white\",\"ticks\":\"\"},\"baxis\":{\"gridcolor\":\"white\",\"linecolor\":\"white\",\"ticks\":\"\"},\"caxis\":{\"gridcolor\":\"white\",\"linecolor\":\"white\",\"ticks\":\"\"}},\"coloraxis\":{\"colorbar\":{\"outlinewidth\":0,\"ticks\":\"\"}},\"colorscale\":{\"sequential\":[[0.0,\"#0d0887\"],[0.1111111111111111,\"#46039f\"],[0.2222222222222222,\"#7201a8\"],[0.3333333333333333,\"#9c179e\"],[0.4444444444444444,\"#bd3786\"],[0.5555555555555556,\"#d8576b\"],[0.6666666666666666,\"#ed7953\"],[0.7777777777777778,\"#fb9f3a\"],[0.8888888888888888,\"#fdca26\"],[1.0,\"#f0f921\"]],\"sequentialminus\":[[0.0,\"#0d0887\"],[0.1111111111111111,\"#46039f\"],[0.2222222222222222,\"#7201a8\"],[0.3333333333333333,\"#9c179e\"],[0.4444444444444444,\"#bd3786\"],[0.5555555555555556,\"#d8576b\"],[0.6666666666666666,\"#ed7953\"],[0.7777777777777778,\"#fb9f3a\"],[0.8888888888888888,\"#fdca26\"],[1.0,\"#f0f921\"]],\"diverging\":[[0,\"#8e0152\"],[0.1,\"#c51b7d\"],[0.2,\"#de77ae\"],[0.3,\"#f1b6da\"],[0.4,\"#fde0ef\"],[0.5,\"#f7f7f7\"],[0.6,\"#e6f5d0\"],[0.7,\"#b8e186\"],[0.8,\"#7fbc41\"],[0.9,\"#4d9221\"],[1,\"#276419\"]]},\"xaxis\":{\"gridcolor\":\"white\",\"linecolor\":\"white\",\"ticks\":\"\",\"title\":{\"standoff\":15},\"zerolinecolor\":\"white\",\"automargin\":true,\"zerolinewidth\":2},\"yaxis\":{\"gridcolor\":\"white\",\"linecolor\":\"white\",\"ticks\":\"\",\"title\":{\"standoff\":15},\"zerolinecolor\":\"white\",\"automargin\":true,\"zerolinewidth\":2},\"scene\":{\"xaxis\":{\"backgroundcolor\":\"#E5ECF6\",\"gridcolor\":\"white\",\"linecolor\":\"white\",\"showbackground\":true,\"ticks\":\"\",\"zerolinecolor\":\"white\",\"gridwidth\":2},\"yaxis\":{\"backgroundcolor\":\"#E5ECF6\",\"gridcolor\":\"white\",\"linecolor\":\"white\",\"showbackground\":true,\"ticks\":\"\",\"zerolinecolor\":\"white\",\"gridwidth\":2},\"zaxis\":{\"backgroundcolor\":\"#E5ECF6\",\"gridcolor\":\"white\",\"linecolor\":\"white\",\"showbackground\":true,\"ticks\":\"\",\"zerolinecolor\":\"white\",\"gridwidth\":2}},\"shapedefaults\":{\"line\":{\"color\":\"#2a3f5f\"}},\"annotationdefaults\":{\"arrowcolor\":\"#2a3f5f\",\"arrowhead\":0,\"arrowwidth\":1},\"geo\":{\"bgcolor\":\"white\",\"landcolor\":\"#E5ECF6\",\"subunitcolor\":\"white\",\"showland\":true,\"showlakes\":true,\"lakecolor\":\"white\"},\"title\":{\"x\":0.05},\"mapbox\":{\"style\":\"light\"}}},\"xaxis\":{\"anchor\":\"y\",\"domain\":[0.0,1.0],\"scaleanchor\":\"y\",\"constrain\":\"domain\",\"title\":{\"text\":\"Predicted Label\"}},\"yaxis\":{\"anchor\":\"x\",\"domain\":[0.0,1.0],\"autorange\":\"reversed\",\"constrain\":\"domain\",\"title\":{\"text\":\"True Label\"}},\"coloraxis\":{\"colorbar\":{\"title\":{\"text\":\"Count\"}},\"colorscale\":[[0.0,\"#440154\"],[0.1111111111111111,\"#482878\"],[0.2222222222222222,\"#3e4989\"],[0.3333333333333333,\"#31688e\"],[0.4444444444444444,\"#26828e\"],[0.5555555555555556,\"#1f9e89\"],[0.6666666666666666,\"#35b779\"],[0.7777777777777778,\"#6ece58\"],[0.8888888888888888,\"#b5de2b\"],[1.0,\"#fde725\"]]},\"title\":{\"text\":\"Confusion Matrix\"}},                        {\"responsive\": true}                    ).then(function(){\n",
              "                            \n",
              "var gd = document.getElementById('4c096ca5-d68a-413a-b463-4caaff4aa74d');\n",
              "var x = new MutationObserver(function (mutations, observer) {{\n",
              "        var display = window.getComputedStyle(gd).display;\n",
              "        if (!display || display === 'none') {{\n",
              "            console.log([gd, 'removed!']);\n",
              "            Plotly.purge(gd);\n",
              "            observer.disconnect();\n",
              "        }}\n",
              "}});\n",
              "\n",
              "// Listen for the removal of the full notebook cells\n",
              "var notebookContainer = gd.closest('#notebook-container');\n",
              "if (notebookContainer) {{\n",
              "    x.observe(notebookContainer, {childList: true});\n",
              "}}\n",
              "\n",
              "// Listen for the clearing of the current output cell\n",
              "var outputEl = gd.closest('.output');\n",
              "if (outputEl) {{\n",
              "    x.observe(outputEl, {childList: true});\n",
              "}}\n",
              "\n",
              "                        })                };                            </script>        </div>\n",
              "</body>\n",
              "</html>"
            ]
          },
          "metadata": {}
        }
      ]
    },
    {
      "cell_type": "markdown",
      "source": [
        "# **New Salary Prediction**"
      ],
      "metadata": {
        "id": "FA0HSqePLH0X"
      }
    },
    {
      "cell_type": "code",
      "source": [
        "df_salary = df_ml[df_ml['is_churn']==0].copy()"
      ],
      "metadata": {
        "id": "7myrsQ402pIb"
      },
      "execution_count": 18,
      "outputs": []
    },
    {
      "cell_type": "code",
      "source": [
        "features_salary = ['job_title','level','location','department']\n",
        "target_salary = 'latest_salary_eur'"
      ],
      "metadata": {
        "id": "yN6Q7sSh22QG"
      },
      "execution_count": 19,
      "outputs": []
    },
    {
      "cell_type": "code",
      "source": [
        "X_salary = df_salary[features_salary]\n",
        "y_salary = df_salary[target_salary]"
      ],
      "metadata": {
        "id": "0On4Kvx63ASE"
      },
      "execution_count": 20,
      "outputs": []
    },
    {
      "cell_type": "code",
      "source": [
        "# Splitting the Data iinto Training and Testing Sets\n",
        "\n",
        "X_train_sal, X_test_sal,y_train_sal,y_test_sal = train_test_split(\n",
        "    X_salary,y_salary,test_size=0.25, random_state=42\n",
        ")\n",
        "print('Data for salary model is ready.')\n",
        "print(f'Training data shape: {X_train_sal.shape}')\n",
        "print(f'Testing data shape: {X_test_sal.shape}')"
      ],
      "metadata": {
        "colab": {
          "base_uri": "https://localhost:8080/"
        },
        "id": "od3E_PR83Iwf",
        "outputId": "f016dfbc-c13a-4990-fcd7-8a814a6d1f56"
      },
      "execution_count": 21,
      "outputs": [
        {
          "output_type": "stream",
          "name": "stdout",
          "text": [
            "Data for salary model is ready.\n",
            "Training data shape: (2800, 4)\n",
            "Testing data shape: (934, 4)\n"
          ]
        }
      ]
    },
    {
      "cell_type": "markdown",
      "source": [
        "# **Creating a Modeling Pipeline**"
      ],
      "metadata": {
        "id": "CxlG985O36Jd"
      }
    },
    {
      "cell_type": "code",
      "source": [
        "# Defining the Preprocessing Step\n",
        "# I need to one-hot encode my categorical features.\n",
        "# 'handle_unknown='ignore'' tells the model what to do if it ses a new category during prediction\n",
        "\n",
        "preprocessor = ColumnTransformer(\n",
        "    transformers=[\n",
        "        ('cat',OneHotEncoder(handle_unknown='ignore'),features_salary)\n",
        "    ]\n",
        ")"
      ],
      "metadata": {
        "id": "MT95vUJ_39EV"
      },
      "execution_count": 23,
      "outputs": []
    },
    {
      "cell_type": "code",
      "source": [
        "# Defining the Model and Creating the Pipeline\n",
        "# I am using a GradienBoostingRegressor, which is a powerful and accurate model for regression\n",
        "\n",
        "gbr_pipeline = Pipeline(steps=[\n",
        "    ('preprocessor',preprocessor),\n",
        "    ('regressor',GradientBoostingRegressor(random_state=42))\n",
        "])\n",
        "\n",
        "print('Salary model pipeline created successfully')"
      ],
      "metadata": {
        "colab": {
          "base_uri": "https://localhost:8080/"
        },
        "id": "2pGcIiIn4r4m",
        "outputId": "67a0864b-2ce4-4dd6-b650-ef22c7ce96eb"
      },
      "execution_count": 24,
      "outputs": [
        {
          "output_type": "stream",
          "name": "stdout",
          "text": [
            "Salary model pipeline created successfully\n"
          ]
        }
      ]
    },
    {
      "cell_type": "markdown",
      "source": [
        "# **Train and Evaluate the Salary Model**"
      ],
      "metadata": {
        "id": "xWuMnHsx5M-C"
      }
    },
    {
      "cell_type": "code",
      "source": [
        "# Training The Pipeline\n",
        "gbr_pipeline.fit(X_train_sal,y_train_sal)\n",
        "\n",
        "print('Salary model trained successfully')"
      ],
      "metadata": {
        "colab": {
          "base_uri": "https://localhost:8080/"
        },
        "id": "9er0iBnH5dU7",
        "outputId": "09aa7a45-d777-401a-8881-51e921c9dee3"
      },
      "execution_count": 25,
      "outputs": [
        {
          "output_type": "stream",
          "name": "stdout",
          "text": [
            "Salary model trained successfully\n"
          ]
        }
      ]
    },
    {
      "cell_type": "code",
      "source": [
        "# Make Predictions on the Test Data\n",
        "y_pred_sal = gbr_pipeline.predict(X_test_sal)"
      ],
      "metadata": {
        "id": "ajtzSeG66Ar0"
      },
      "execution_count": 29,
      "outputs": []
    },
    {
      "cell_type": "code",
      "source": [
        "# Evaluate Performance\n",
        "rmse = mean_squared_error(y_test_sal,y_pred_sal)\n",
        "r2 = r2_score(y_test_sal,y_pred_sal)"
      ],
      "metadata": {
        "id": "Q6-Mdqgj6LKQ"
      },
      "execution_count": 32,
      "outputs": []
    },
    {
      "cell_type": "code",
      "source": [
        "print(f'\\nModel Performance on Test Data:')\n",
        "print(f'Root Mean Squared Error (RMSE): €{rmse:,.2f}')\n",
        "print(f'R-squared (R2): {r2:.2f}')\n",
        "print(f'\\nThis means the models predictions are, on average, off by about €{rmse:,.0f}.')\n",
        "print(f'The model explains approximately {r2:.0%} of the variance in salaries based on the provided features')"
      ],
      "metadata": {
        "colab": {
          "base_uri": "https://localhost:8080/"
        },
        "id": "Y_cb2da57LwM",
        "outputId": "4ae98ee4-d644-4423-a652-88a545708735"
      },
      "execution_count": 33,
      "outputs": [
        {
          "output_type": "stream",
          "name": "stdout",
          "text": [
            "\n",
            "Model Performance on Test Data:\n",
            "Root Mean Squared Error (RMSE): €59,201,435.24\n",
            "R-squared (R2): 0.89\n",
            "\n",
            "This means the models predictions are, on average, off by about €59,201,435.\n",
            "The model explains approximately 89% of the variance in salaries based on the provided features\n"
          ]
        }
      ]
    },
    {
      "cell_type": "markdown",
      "source": [
        "# **Using the Model for a Prediction**"
      ],
      "metadata": {
        "id": "AsgbdlnS89xP"
      }
    },
    {
      "cell_type": "code",
      "source": [
        "# Creating a DataFrame for the new hire\n",
        "\n",
        "new_hire_data = pd.DataFrame({\n",
        "    'job_title':['People Analyst'],\n",
        "    'level':['T5'],\n",
        "    'location':['Paris'],\n",
        "    'department':['Human Resources']\n",
        "})"
      ],
      "metadata": {
        "id": "Te4IR1y-9Cm7"
      },
      "execution_count": 38,
      "outputs": []
    },
    {
      "cell_type": "code",
      "source": [
        "# Using the trained pipeline to predict the salary\n",
        "\n",
        "predicted_salary = gbr_pipeline.predict(new_hire_data)\n",
        "print(f'\\nPredicted salary for the new hire: €{predicted_salary[0]:,.0f}')"
      ],
      "metadata": {
        "colab": {
          "base_uri": "https://localhost:8080/"
        },
        "id": "En35waTj9sQ9",
        "outputId": "1546b35c-cc53-4c5e-f67b-35ee74164263"
      },
      "execution_count": 39,
      "outputs": [
        {
          "output_type": "stream",
          "name": "stdout",
          "text": [
            "\n",
            "Predicted salary for the new hire: €48,765\n"
          ]
        }
      ]
    }
  ]
}