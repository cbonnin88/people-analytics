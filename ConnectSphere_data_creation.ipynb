{
  "nbformat": 4,
  "nbformat_minor": 0,
  "metadata": {
    "colab": {
      "provenance": [],
      "authorship_tag": "ABX9TyOLAf9iC4ftqQzFjI5xIMFb",
      "include_colab_link": true
    },
    "kernelspec": {
      "name": "python3",
      "display_name": "Python 3"
    },
    "language_info": {
      "name": "python"
    }
  },
  "cells": [
    {
      "cell_type": "markdown",
      "metadata": {
        "id": "view-in-github",
        "colab_type": "text"
      },
      "source": [
        "<a href=\"https://colab.research.google.com/github/cbonnin88/people-analytics/blob/main/ConnectSphere_data_creation.ipynb\" target=\"_parent\"><img src=\"https://colab.research.google.com/assets/colab-badge.svg\" alt=\"Open In Colab\"/></a>"
      ]
    },
    {
      "cell_type": "code",
      "source": [
        "!pip install Faker"
      ],
      "metadata": {
        "colab": {
          "base_uri": "https://localhost:8080/"
        },
        "id": "OIPzk6Qglyvn",
        "outputId": "5ac471c1-b83d-4a4e-cadb-ed00dc997de1"
      },
      "execution_count": null,
      "outputs": [
        {
          "output_type": "stream",
          "name": "stdout",
          "text": [
            "Requirement already satisfied: Faker in /usr/local/lib/python3.12/dist-packages (37.5.3)\n",
            "Requirement already satisfied: tzdata in /usr/local/lib/python3.12/dist-packages (from Faker) (2025.2)\n"
          ]
        }
      ]
    },
    {
      "cell_type": "code",
      "source": [
        "import polars as pl\n",
        "from faker import Faker\n",
        "import numpy as np\n",
        "import datetime\n",
        "import random"
      ],
      "metadata": {
        "id": "P-xIy7pguAk0"
      },
      "execution_count": null,
      "outputs": []
    },
    {
      "cell_type": "code",
      "source": [
        "faker_instance = {\n",
        "    'France': Faker('fr_Fr'),\n",
        "    'United Kingdom':Faker('en_GB'),\n",
        "    'Denmark':Faker('dk_DK'),\n",
        "    'Germany':Faker('de_DE')\n",
        "}"
      ],
      "metadata": {
        "id": "ORY6dF-F6zvN"
      },
      "execution_count": null,
      "outputs": []
    },
    {
      "cell_type": "code",
      "source": [
        "num_employees = 4500\n",
        "num_leadership = 7\n",
        "num_managers = 441\n",
        "departments = ['Engineering','Product','Sales','Human Resources','Finance','Data','Leadership']\n",
        "non_leadership_depts = [d for d in departments if d != 'Leadership']\n",
        "city = ['London','Paris','Berlin','Copenhagen']\n",
        "country_map = {\n",
        "    'Paris':'France',\n",
        "    'London':'United Kingdom',\n",
        "    'Berlin':'Germany',\n",
        "    'Copenhagen':'Denmark'\n",
        "}"
      ],
      "metadata": {
        "id": "z2P0eRKyuL9_"
      },
      "execution_count": null,
      "outputs": []
    },
    {
      "cell_type": "code",
      "source": [
        "# Creating Job titles\n",
        "\n",
        "job_titles = {\n",
        "    'Engineering':['Frontend Engineer','Backend Engineer','DevOps Engineer','QA Engineer','Engineering Manager','Cloud Engineer'],\n",
        "    'Product':['Product Manager','Product Analyst','UX/UI Designer','Product Engineer','Head of Product'],\n",
        "    'Sales':['Account Executive','Sales Development Representative','Sales Manager','Customer Success Manager','Sales Analyst','Head of Sales'],\n",
        "    'Human Resources':['Talent Acquisition Specialist','HR Business Partner','People Analyst','HR Machine Learning Engineer','HR Data Scientist','HR Manager'],\n",
        "    'Finance':['Credit Analyst','Accountant','Financial Analyst','Financial Planner','Auditor','Financial Lead'],\n",
        "    'Data':['Data Analyst','Data Scientist','Analytics Engineer','Data Engineer','Machine Learning Engineer','Cloud Data Engineer','Head of Data'],\n",
        "    'Leadership':['Chief Technicological Officer','Director of Product','Head of Global Sales','Chief People Officer','Chief Financial Officer','Chief Data Officer','Chief Executive Officer']\n",
        "}"
      ],
      "metadata": {
        "id": "MvKXwB5Kvo_3"
      },
      "execution_count": null,
      "outputs": []
    },
    {
      "cell_type": "code",
      "source": [
        "manager_titles = [\n",
        "    \"Engineering Manager\",\n",
        "    \"Head of Product\",\n",
        "    \"Head of Sales\",\n",
        "    \"HR Manager\",\n",
        "    \"Financial Lead\",\n",
        "    \"Head of Data\"\n",
        "]"
      ],
      "metadata": {
        "id": "xAYURnuxqJSD"
      },
      "execution_count": null,
      "outputs": []
    },
    {
      "cell_type": "code",
      "source": [
        "#Manager Levels\n",
        "\n",
        "ic_levels = ['T5','T4','T3']\n",
        "manager_level = 'T2'\n",
        "leadership_level = 'T1'"
      ],
      "metadata": {
        "id": "LbdWjoFg1gp6"
      },
      "execution_count": null,
      "outputs": []
    },
    {
      "cell_type": "code",
      "source": [
        "# Salary Bands\n",
        "\n",
        "salary_bands = {\n",
        "    ('Paris','T5'):(40000,55999),('Paris','T4'):(56000,75999),('Paris','T3'):(76000,95999),('Paris','T2'):(96000,120000),\n",
        "    ('London', 'T5'): (45000, 60999), ('London', 'T4'): (61000, 85999), ('London', 'T3'): (86000, 110999), ('London', 'T2'): (111000, 140000),\n",
        "    ('Copenhagen', 'T5'): (42000, 58999), ('Copenhagen', 'T4'): (59000, 80999), ('Copenhagen', 'T3'): (81000, 100999), ('Copenhagen', 'T2'): (101000, 125000),\n",
        "    ('Berlin','T5'):(40000,55999),('Berlin','T4'):(56000,75999),('Berlin','T3'):(76000,95999),('Berlin','T2'):(96000,120000)\n",
        "}"
      ],
      "metadata": {
        "id": "6zfyj0_C17fz"
      },
      "execution_count": null,
      "outputs": []
    },
    {
      "cell_type": "code",
      "source": [
        "# Leadership Bands\n",
        "\n",
        "leadership_salary_bands = {\n",
        "    'Paris':(130000,200000),\n",
        "    'London':(150000,250000),\n",
        "    'Copenhagen':(135000,200000),\n",
        "    'Berlin':(145000,250000)\n",
        "}"
      ],
      "metadata": {
        "id": "I7yJp_Xw3yBt"
      },
      "execution_count": null,
      "outputs": []
    },
    {
      "cell_type": "code",
      "source": [
        "# Generating Job Roles Table\n",
        "\n",
        "roles_data = []\n",
        "role_id_counter = 1\n",
        "\n",
        "for dept in departments:\n",
        "  for title in job_titles[dept]:\n",
        "    is_manager = title in manager_titles\n",
        "    roles_data.append({\n",
        "        'role_id': role_id_counter,\n",
        "        'department': dept,\n",
        "        'job_title': title,\n",
        "        'is_manager_role': is_manager\n",
        "    })\n",
        "    role_id_counter += 1"
      ],
      "metadata": {
        "id": "ESR7TlEl4cdC"
      },
      "execution_count": null,
      "outputs": []
    },
    {
      "cell_type": "code",
      "source": [
        "df_roles = pl.DataFrame(roles_data)"
      ],
      "metadata": {
        "id": "32_csjxAX6mV"
      },
      "execution_count": null,
      "outputs": []
    },
    {
      "cell_type": "code",
      "source": [
        "# Generating Employees Table\n",
        "employees_data =[]\n",
        "employee_id_counter = 1\n",
        "\n",
        "# Generationg Leadership employees\n",
        "leadership_roles = df_roles.filter(pl.col('department') == 'Leadership')['role_id'].to_list()\n",
        "\n",
        "for _ in range(num_leadership):\n",
        "  location = random.choice(city)\n",
        "  country = country_map[location]\n",
        "  current_faker = faker_instance[country]\n",
        "\n",
        "  hire_date = current_faker.date_between(start_date='-8y',end_date='-2y')\n",
        "  employees_data.append({\n",
        "      'employee_id': employee_id_counter,\n",
        "      'first_name': current_faker.first_name(),\n",
        "      'last_name': current_faker.last_name(),\n",
        "      'email': current_faker.email(),\n",
        "      'location': location, 'country':country,\n",
        "      'department':'Leadership','role_id':random.choice(leadership_roles), 'level':leadership_level,\n",
        "      'hire_date':hire_date, 'termination_date':None, # Ensure None is used for missing termination dates\n",
        "      'performance_score':random.randint(1,5), 'satisfactioin_score':random.randint(1,5)\n",
        "  })\n",
        "  employee_id_counter += 1"
      ],
      "metadata": {
        "id": "ZJi1Zgo35dW6"
      },
      "execution_count": null,
      "outputs": []
    },
    {
      "cell_type": "code",
      "source": [
        "# Generating 441 T2 Managers\n",
        "\n",
        "manager_roles_map = {}\n",
        "for dept in non_leadership_depts:\n",
        "  manager_role = df_roles.filter((pl.col('department') == dept) & (pl.col('is_manager_role') == True))['role_id']\n",
        "  if manager_role.len() > 0:\n",
        "    manager_roles_map[dept] = manager_role.item()\n",
        "\n",
        "\n",
        "manager_dept_distribution = (non_leadership_depts * (num_managers // len(non_leadership_depts)+1))[:num_managers]\n",
        "random.shuffle(manager_dept_distribution)\n",
        "\n",
        "for dept in manager_dept_distribution:\n",
        "  if dept in manager_roles_map: # Only generate manager if a manager role exists for the department\n",
        "    location = random.choice(city)\n",
        "    country = country_map[location]\n",
        "    current_faker = faker_instance[country]\n",
        "\n",
        "    hire_date = current_faker.date_between(start_date='-6y',end_date='-1y')\n",
        "    employees_data.append({\n",
        "        'employee_id': employee_id_counter,\n",
        "        'first_name': current_faker.first_name(),\n",
        "        'last_name': current_faker.last_name(),\n",
        "        'email': current_faker.email(),\n",
        "        'location':location,'country':country,\n",
        "        'department':dept,'role_id':manager_roles_map[dept], 'level':manager_level,\n",
        "        'hire_date':hire_date, 'termination_date':None, # Ensure None is used for missing termination dates\n",
        "        'performance_score':random.randint(1,5),'satisfaction_score':random.randint(1,5)\n",
        "    })\n",
        "    employee_id_counter += 1\n",
        "  else:\n",
        "    print(f\"Skipping manager generation for department: {dept} as no manager role exists.\") # Optional: add a message for skipped departments"
      ],
      "metadata": {
        "id": "0KT9WyquX07W"
      },
      "execution_count": null,
      "outputs": []
    },
    {
      "cell_type": "code",
      "source": [
        "# Generating the Individual Contributors\n",
        "num_ics = num_employees - num_leadership - num_managers\n",
        "ic_roles_map = {dept: df_roles.filter((pl.col('department')== dept) & (pl.col('is_manager_role')==False))['role_id'].to_list() for dept in non_leadership_depts}\n",
        "\n",
        "for _ in range(num_ics):\n",
        "  department = random.choice(non_leadership_depts)\n",
        "  location = random.choice(city)\n",
        "  country = country_map[location]\n",
        "  current_faker = faker_instance[country]\n",
        "\n",
        "  # Ensure hire_date is at least 180 days before today to avoid error in termination_date generation\n",
        "  end_date_hire = datetime.date.today() - datetime.timedelta(days=180)\n",
        "  hire_date = current_faker.date_between(start_date='-5y',end_date=end_date_hire)\n",
        "\n",
        "  performance_score = random.randint(1,5)\n",
        "  has_left = (performance_score <=2) and (random.random() < 0.45)\n",
        "  termination_date = current_faker.date_between(start_date=hire_date + datetime.timedelta(days=180), end_date='today') if has_left else None # Ensure None is used for missing termination dates\n",
        "  employees_data.append({\n",
        "      'employee_id': employee_id_counter,'first_name':current_faker.first_name(),'last_name':current_faker.last_name(),\n",
        "      'email':current_faker.email(),'location':location,'country':country,\n",
        "      'department':department,'role_id':random.choice(ic_roles_map[department]),'level':random.choice(ic_levels),\n",
        "      'hire_date':hire_date,'termination_date':termination_date,\n",
        "      'performance_score':performance_score,'satisfaction_score':random.randint(1,5)\n",
        "  })\n",
        "  employee_id_counter += 1"
      ],
      "metadata": {
        "id": "vqQ0gyENLa1-"
      },
      "execution_count": null,
      "outputs": []
    },
    {
      "cell_type": "code",
      "source": [
        "import polars as pl\n",
        "import datetime\n",
        "\n",
        "# Define explicit schema to handle potential type inconsistencies, especially with dates and nulls\n",
        "explicit_schema = {\n",
        "    'employee_id': pl.Int64,\n",
        "    'first_name': pl.Utf8,\n",
        "    'last_name': pl.Utf8,\n",
        "    'email': pl.Utf8,\n",
        "    'location': pl.Utf8,\n",
        "    'country': pl.Utf8,\n",
        "    'department': pl.Utf8,\n",
        "    'role_id': pl.Int64,\n",
        "    'level': pl.Utf8,\n",
        "    'hire_date': pl.Date,\n",
        "    'termination_date': pl.Date, # Explicitly define as Date, Polars handles None as null for this type\n",
        "    'performance_score': pl.Int64,\n",
        "    'satisfaction_score': pl.Int64\n",
        "}\n",
        "\n",
        "df_employees = pl.DataFrame(employees_data, schema=explicit_schema)"
      ],
      "metadata": {
        "id": "KZJORYn1X9EZ"
      },
      "execution_count": null,
      "outputs": []
    },
    {
      "cell_type": "code",
      "source": [
        "# Generate Salaries & Performance Tables\n",
        "salaries_data = []\n",
        "salary_id_counter = 1\n",
        "\n",
        "import pandas as pd # Added import for pandas\n",
        "\n",
        "for _, row in df_employees.to_pandas().iterrows():\n",
        "  if row['level'] == 'T1': band = leadership_salary_bands.get(row['location'])\n",
        "  else: band = salary_bands.get((row['location'], row['level']))\n",
        "  base_salary_eur = random.randint(band[0], band[1])\n",
        "\n",
        "  salary_local = base_salary_eur\n",
        "\n",
        "  currency = 'EUR'\n",
        "  if row['location'] == 'London':\n",
        "        salary_local = int(base_salary_eur * 0.85) # Convert to GBP\n",
        "        currency = 'GBP'\n",
        "  elif row['location'] == 'Copenhagen':\n",
        "        salary_local = int(base_salary_eur * 7.45) # Convert to DKK\n",
        "        currency = 'DKK'\n",
        "\n",
        "  salaries_data.append({\n",
        "      'salary_id':salary_id_counter,\n",
        "      'employee_id': row['employee_id'],\n",
        "      'salary':salary_local,\n",
        "      'currency':currency,\n",
        "      'salary_in_eur':base_salary_eur,\n",
        "      'effective_date': row['hire_date'].date() # Convert hire_date to datetime.date\n",
        "  })\n",
        "  salary_id_counter += 1\n",
        "\n",
        "  if (datetime.date.today() - row['hire_date'].date()).days > 365 and random.random() < 0.4:\n",
        "    # Use an existing faker instance to generate the increase date\n",
        "    increase_date = faker_instance['France'].date_between(start_date=row['hire_date'].date() + datetime.timedelta(days=365), end_date='today')\n",
        "    if pd.isna(row['termination_date']) or increase_date < row['termination_date'].date(): # Added check for NaT and converted to date\n",
        "      new_salary_local = int(salary_local * random.uniform(1.05,1.15))\n",
        "      new_salary_eur = int(base_salary_eur * random.uniform(1.05,1.15))\n",
        "      salaries_data.append({ # Corrected typo from salaires_data\n",
        "          'salary_id':salary_id_counter,\n",
        "          'employee_id':row['employee_id'],\n",
        "          'salary':new_salary_local,\n",
        "          'currency':currency,\n",
        "          'salary_in_eur':new_salary_eur,\n",
        "          'effective_date': increase_date\n",
        "      })\n",
        "      salary_id_counter += 1"
      ],
      "metadata": {
        "id": "_HVKbsP_YkWM"
      },
      "execution_count": null,
      "outputs": []
    },
    {
      "cell_type": "code",
      "source": [
        "df_salaries = pl.DataFrame(salaries_data)\n",
        "df_performance = df_employees.select(['employee_id','performance_score','satisfaction_score'])\n",
        "df_employees = df_employees.drop(['performance_score','satisfaction_score'])"
      ],
      "metadata": {
        "id": "iynELPIvdiOH"
      },
      "execution_count": null,
      "outputs": []
    },
    {
      "cell_type": "code",
      "source": [
        "# Saving to CSV\n",
        "df_employees.write_csv('employees.csv')\n",
        "df_roles.write_csv('job_roles.csv')\n",
        "df_salaries.write_csv('salaries.csv')\n",
        "df_performance.write_csv('performance.csv')"
      ],
      "metadata": {
        "id": "LIY3tiwjei8Q"
      },
      "execution_count": null,
      "outputs": []
    },
    {
      "cell_type": "code",
      "source": [
        "# Verification\n",
        "print('CSV file generation complete with explicit manager roles')\n",
        "print('-' * 40)\n",
        "print(f'Total Employees Generated: {len(df_employees)}')\n",
        "print(f'-T1 Leadership: {len(df_employees.filter(pl.col('level')=='T1'))}')\n",
        "print(f'-T2 Managers: {len(df_employees.filter(pl.col('level')=='T2'))}')\n",
        "print(f'-T3-T5 ICs: {len(df_employees.filter(pl.col('level').is_in(['T3','T4','T5'])))}')\n",
        "print('-'*40)"
      ],
      "metadata": {
        "colab": {
          "base_uri": "https://localhost:8080/"
        },
        "id": "8L9Cm1wge1A4",
        "outputId": "84e380a6-4f7a-4304-f35a-baeed1733acf"
      },
      "execution_count": null,
      "outputs": [
        {
          "output_type": "stream",
          "name": "stdout",
          "text": [
            "CSV file generation complete with explicit manager roles\n",
            "----------------------------------------\n",
            "Total Employees Generated: 4500\n",
            "-T1 Leadership: 7\n",
            "-T2 Managers: 441\n",
            "-T3-T5 ICs: 4052\n",
            "----------------------------------------\n"
          ]
        }
      ]
    }
  ]
}